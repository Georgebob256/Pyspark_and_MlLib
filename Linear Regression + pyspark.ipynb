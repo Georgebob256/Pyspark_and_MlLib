{
 "cells": [
  {
   "cell_type": "code",
   "execution_count": 1,
   "metadata": {},
   "outputs": [],
   "source": [
    "from pyspark.context import SparkContext\n",
    "from pyspark.sql.session import SparkSession\n",
    "\n",
    "sc = SparkContext('local')\n",
    "spark = SparkSession(sc)\n",
    "\n",
    "wine_df = spark.read.csv('wine.csv', header = True, inferSchema = True)"
   ]
  },
  {
   "cell_type": "code",
   "execution_count": 2,
   "metadata": {},
   "outputs": [
    {
     "data": {
      "text/plain": [
       "[Row(fixed acidity=7.4, volatile acidity=0.7, citric acid=0.0, residual sugar=1.9, chlorides=0.076, free sulfur dioxide=11.0, total sulfur dioxide=34.0, density=0.9978, pH=3.51, sulphates=0.56, alcohol=9.4, quality=5)]"
      ]
     },
     "execution_count": 2,
     "metadata": {},
     "output_type": "execute_result"
    }
   ],
   "source": [
    "wine_df.take(1)"
   ]
  },
  {
   "cell_type": "code",
   "execution_count": 3,
   "metadata": {},
   "outputs": [
    {
     "name": "stdout",
     "output_type": "stream",
     "text": [
      "+-------+-------+\n",
      "|alcohol|quality|\n",
      "+-------+-------+\n",
      "|    9.4|      5|\n",
      "|    9.8|      5|\n",
      "|    9.8|      5|\n",
      "|    9.8|      6|\n",
      "|    9.4|      5|\n",
      "|    9.4|      5|\n",
      "|    9.4|      5|\n",
      "|   10.0|      7|\n",
      "|    9.5|      7|\n",
      "|   10.5|      5|\n",
      "|    9.2|      5|\n",
      "|   10.5|      5|\n",
      "|    9.9|      5|\n",
      "|    9.1|      5|\n",
      "|    9.2|      5|\n",
      "|    9.2|      5|\n",
      "|   10.5|      7|\n",
      "|    9.3|      5|\n",
      "|    9.0|      4|\n",
      "|    9.2|      6|\n",
      "+-------+-------+\n",
      "only showing top 20 rows\n",
      "\n"
     ]
    }
   ],
   "source": [
    "wine_df.select(\"alcohol\", \"quality\").show()"
   ]
  },
  {
   "cell_type": "code",
   "execution_count": 4,
   "metadata": {},
   "outputs": [
    {
     "name": "stdout",
     "output_type": "stream",
     "text": [
      "Correlation to MPG for  fixed acidity 0.12405164911322263\n",
      "Correlation to MPG for  volatile acidity -0.3905577802640061\n",
      "Correlation to MPG for  citric acid 0.22637251431804048\n",
      "Correlation to MPG for  residual sugar 0.013731637340065798\n",
      "Correlation to MPG for  chlorides -0.1289065599300529\n",
      "Correlation to MPG for  free sulfur dioxide -0.05065605724427597\n",
      "Correlation to MPG for  total sulfur dioxide -0.18510028892653774\n",
      "Correlation to MPG for  density -0.17491922778336602\n",
      "Correlation to MPG for  pH -0.0577313912053826\n",
      "Correlation to MPG for  sulphates 0.25139707906925995\n",
      "Correlation to MPG for  alcohol 0.4761663240011364\n",
      "Correlation to MPG for  quality 1.0\n"
     ]
    }
   ],
   "source": [
    "import six\n",
    "for i in wine_df.columns:\n",
    "    if not( isinstance(wine_df.select(i).take(1)[0][0], six.string_types)):\n",
    "        print( \"Correlation to MPG for \", i, wine_df.stat.corr('quality',i))"
   ]
  },
  {
   "cell_type": "code",
   "execution_count": 5,
   "metadata": {},
   "outputs": [
    {
     "name": "stdout",
     "output_type": "stream",
     "text": [
      "['volatile acidity', 'citric acid', 'total sulfur dioxide', 'sulphates', 'alcohol', 'quality']\n"
     ]
    }
   ],
   "source": [
    "wine_df = wine_df.drop(\"residual sugar\").drop(\"free sulfur dioxide\") \\\n",
    "                       .drop(\"pH\").drop(\"density\") \\\n",
    "                       .drop(\"chlorides\").drop('fixed acidity')\n",
    "print(wine_df.columns)"
   ]
  },
  {
   "cell_type": "code",
   "execution_count": 6,
   "metadata": {},
   "outputs": [
    {
     "data": {
      "text/plain": [
       "[Row(volatile acidity=0.7, citric acid=0.0, total sulfur dioxide=34.0, sulphates=0.56, alcohol=9.4, quality=5, features=DenseVector([0.7, 0.0, 34.0, 0.56, 9.4, 5.0]))]"
      ]
     },
     "execution_count": 6,
     "metadata": {},
     "output_type": "execute_result"
    }
   ],
   "source": [
    "from pyspark.ml.feature import VectorAssembler\n",
    "\n",
    "vectorAssembler = VectorAssembler(inputCols = wine_df.columns, outputCol = 'features')\n",
    "vwine_df = vectorAssembler.transform(wine_df)\n",
    "vwine_df.take(1)"
   ]
  },
  {
   "cell_type": "code",
   "execution_count": 7,
   "metadata": {},
   "outputs": [],
   "source": [
    "splits = vwine_df.randomSplit([0.9, 0.1])\n",
    "train_df = splits[0]\n",
    "test_df = splits[1]"
   ]
  },
  {
   "cell_type": "code",
   "execution_count": 8,
   "metadata": {},
   "outputs": [
    {
     "name": "stdout",
     "output_type": "stream",
     "text": [
      "Coefficients: [7.750056776406814e-15,-4.743761750938962e-16,1.5431731824448383e-17,-3.7061337257273726e-15,-1.86952088869007e-15,1.0000000000000064]\n",
      "Intercept: -1.8839733359542293e-14\n"
     ]
    }
   ],
   "source": [
    "from pyspark.ml.regression import LinearRegression\n",
    "\n",
    "lr = LinearRegression(featuresCol = 'features', labelCol='quality', maxIter=10)\n",
    "lr_model = lr.fit(train_df)\n",
    "print(\"Coefficients: \" + str(lr_model.coefficients))\n",
    "print(\"Intercept: \" + str(lr_model.intercept))"
   ]
  },
  {
   "cell_type": "code",
   "execution_count": 9,
   "metadata": {},
   "outputs": [
    {
     "name": "stdout",
     "output_type": "stream",
     "text": [
      "+------------------+-------+--------------------+\n",
      "|        prediction|quality|            features|\n",
      "+------------------+-------+--------------------+\n",
      "| 7.000000000000003|      7|[0.12,0.45,21.0,0...|\n",
      "|5.9999999999999964|      6|[0.16,0.44,31.0,0...|\n",
      "| 5.999999999999998|      6|[0.18,0.37,109.0,...|\n",
      "| 7.000000000000006|      7|[0.25,0.29,49.0,0...|\n",
      "| 6.000000000000002|      6|[0.26,0.42,27.0,0...|\n",
      "| 6.000000000000002|      6|[0.26,0.44,19.0,0...|\n",
      "| 4.999999999999995|      5|[0.27,0.41,16.0,0...|\n",
      "| 7.000000000000007|      7|[0.28,0.47,32.0,0...|\n",
      "| 5.999999999999999|      6|[0.28,0.48,46.0,1...|\n",
      "|6.0000000000000036|      6|[0.29,0.25,160.0,...|\n",
      "| 6.000000000000003|      6|[0.29,0.49,60.0,0...|\n",
      "| 6.000000000000001|      6|[0.3,0.48,61.0,0....|\n",
      "| 8.000000000000009|      8|[0.3,0.56,17.0,0....|\n",
      "| 7.000000000000008|      7|[0.3,0.68,278.0,0...|\n",
      "|7.0000000000000036|      7|[0.31,0.34,35.0,0...|\n",
      "| 7.000000000000005|      7|[0.31,0.4,10.0,0....|\n",
      "| 7.000000000000003|      7|[0.31,0.45,16.0,0...|\n",
      "| 6.000000000000001|      6|[0.31,0.46,25.0,0...|\n",
      "| 6.000000000000003|      6|[0.31,0.49,40.0,0...|\n",
      "| 6.000000000000001|      6|[0.31,0.51,28.0,0...|\n",
      "+------------------+-------+--------------------+\n",
      "only showing top 20 rows\n",
      "\n"
     ]
    }
   ],
   "source": [
    "import numpy as np\n",
    "predictions = lr_model.transform(test_df)\n",
    "\n",
    "predictions.select(\"prediction\",\"quality\",\"features\").show()\n"
   ]
  },
  {
   "cell_type": "code",
   "execution_count": 10,
   "metadata": {},
   "outputs": [
    {
     "data": {
      "text/plain": [
       "1.0"
      ]
     },
     "execution_count": 10,
     "metadata": {},
     "output_type": "execute_result"
    }
   ],
   "source": [
    "#Find R2 for Linear Regression\n",
    "from pyspark.ml.evaluation import RegressionEvaluator\n",
    "evaluator = RegressionEvaluator(predictionCol=\"prediction\", \\\n",
    "                 labelCol=\"quality\",metricName=\"r2\")\n",
    "evaluator.evaluate(predictions)"
   ]
  },
  {
   "cell_type": "code",
   "execution_count": 11,
   "metadata": {},
   "outputs": [],
   "source": [
    "sc.stop()"
   ]
  },
  {
   "cell_type": "code",
   "execution_count": null,
   "metadata": {},
   "outputs": [],
   "source": []
  }
 ],
 "metadata": {
  "kernelspec": {
   "display_name": "Python 3",
   "language": "python",
   "name": "python3"
  },
  "language_info": {
   "codemirror_mode": {
    "name": "ipython",
    "version": 3
   },
   "file_extension": ".py",
   "mimetype": "text/x-python",
   "name": "python",
   "nbconvert_exporter": "python",
   "pygments_lexer": "ipython3",
   "version": "3.7.3"
  }
 },
 "nbformat": 4,
 "nbformat_minor": 2
}
