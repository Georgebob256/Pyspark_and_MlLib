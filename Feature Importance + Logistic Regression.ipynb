{
 "cells": [
  {
   "cell_type": "code",
   "execution_count": 1,
   "metadata": {},
   "outputs": [],
   "source": [
    "from pyspark.context import SparkContext\n",
    "from pyspark.sql.session import SparkSession\n",
    "sc = SparkContext('local')\n",
    "\n",
    "spark = SparkSession(sc)\n",
    "\n",
    "df = spark.read.csv('titanic.csv', inferSchema = True, header = True)"
   ]
  },
  {
   "cell_type": "code",
   "execution_count": 2,
   "metadata": {},
   "outputs": [
    {
     "name": "stdout",
     "output_type": "stream",
     "text": [
      "root\n",
      " |-- PassengerId: integer (nullable = true)\n",
      " |-- Survived: integer (nullable = true)\n",
      " |-- Pclass: integer (nullable = true)\n",
      " |-- Name: string (nullable = true)\n",
      " |-- Sex: string (nullable = true)\n",
      " |-- Age: double (nullable = true)\n",
      " |-- SibSp: integer (nullable = true)\n",
      " |-- Parch: integer (nullable = true)\n",
      " |-- Ticket: string (nullable = true)\n",
      " |-- Fare: double (nullable = true)\n",
      " |-- Cabin: string (nullable = true)\n",
      " |-- Embarked: string (nullable = true)\n",
      "\n"
     ]
    }
   ],
   "source": [
    "df.printSchema()"
   ]
  },
  {
   "cell_type": "code",
   "execution_count": 3,
   "metadata": {},
   "outputs": [
    {
     "name": "stdout",
     "output_type": "stream",
     "text": [
      "+-----------+--------+------+--------------------+------+----+-----+-----+----------------+-------+-----+--------+\n",
      "|PassengerId|Survived|Pclass|                Name|   Sex| Age|SibSp|Parch|          Ticket|   Fare|Cabin|Embarked|\n",
      "+-----------+--------+------+--------------------+------+----+-----+-----+----------------+-------+-----+--------+\n",
      "|          1|       0|     3|Braund, Mr. Owen ...|  male|22.0|    1|    0|       A/5 21171|   7.25| null|       S|\n",
      "|          2|       1|     1|Cumings, Mrs. Joh...|female|38.0|    1|    0|        PC 17599|71.2833|  C85|       C|\n",
      "|          3|       1|     3|Heikkinen, Miss. ...|female|26.0|    0|    0|STON/O2. 3101282|  7.925| null|       S|\n",
      "|          4|       1|     1|Futrelle, Mrs. Ja...|female|35.0|    1|    0|          113803|   53.1| C123|       S|\n",
      "|          5|       0|     3|Allen, Mr. Willia...|  male|35.0|    0|    0|          373450|   8.05| null|       S|\n",
      "|          6|       0|     3|    Moran, Mr. James|  male|null|    0|    0|          330877| 8.4583| null|       Q|\n",
      "|          7|       0|     1|McCarthy, Mr. Tim...|  male|54.0|    0|    0|           17463|51.8625|  E46|       S|\n",
      "|          8|       0|     3|Palsson, Master. ...|  male| 2.0|    3|    1|          349909| 21.075| null|       S|\n",
      "|          9|       1|     3|Johnson, Mrs. Osc...|female|27.0|    0|    2|          347742|11.1333| null|       S|\n",
      "|         10|       1|     2|Nasser, Mrs. Nich...|female|14.0|    1|    0|          237736|30.0708| null|       C|\n",
      "+-----------+--------+------+--------------------+------+----+-----+-----+----------------+-------+-----+--------+\n",
      "only showing top 10 rows\n",
      "\n"
     ]
    }
   ],
   "source": [
    "df.show(10)"
   ]
  },
  {
   "cell_type": "code",
   "execution_count": 4,
   "metadata": {},
   "outputs": [
    {
     "name": "stdout",
     "output_type": "stream",
     "text": [
      "root\n",
      " |-- Survived: integer (nullable = true)\n",
      " |-- Pclass: integer (nullable = true)\n",
      " |-- Sex: string (nullable = true)\n",
      " |-- Age: double (nullable = true)\n",
      " |-- SibSp: integer (nullable = true)\n",
      " |-- Parch: integer (nullable = true)\n",
      " |-- Fare: double (nullable = true)\n",
      " |-- Embarked: string (nullable = true)\n",
      "\n"
     ]
    }
   ],
   "source": [
    "df = df.drop('PassengerId', 'Name', 'Ticket', \"Cabin\")\n",
    "df = df.na.drop()\n",
    "df.printSchema()\n",
    "cols = df.columns"
   ]
  },
  {
   "cell_type": "code",
   "execution_count": 5,
   "metadata": {},
   "outputs": [],
   "source": [
    "from pyspark.ml.feature import OneHotEncoderEstimator, StringIndexer, VectorAssembler\n",
    "from pyspark.ml import Pipeline\n",
    "\n",
    "cat_cols = ['Sex', 'Embarked']\n",
    "stages = []\n",
    "\n",
    "for cat_col in cat_cols:\n",
    "    stringindex = StringIndexer(inputCol = cat_col, outputCol = cat_col + 'Index')\n",
    "    encoder = OneHotEncoderEstimator(inputCols = [stringindex.getOutputCol()], outputCols = [cat_col + 'ClassVec'])\n",
    "    stages += [stringindex, encoder]\n",
    "\n",
    "num_cols = ['Pclass', 'Age', 'SibSp', 'Parch', 'Fare']\n",
    "\n",
    "assembler_cols = [c + 'ClassVec' for c in cat_cols] + num_cols\n",
    "\n",
    "assembler = VectorAssembler(inputCols = assembler_cols, outputCol = 'features')\n",
    "stages += [assembler]\n"
   ]
  },
  {
   "cell_type": "code",
   "execution_count": 6,
   "metadata": {},
   "outputs": [
    {
     "data": {
      "text/plain": [
       "[StringIndexer_7b6ebabf45d5,\n",
       " OneHotEncoderEstimator_d69eda17f88a,\n",
       " StringIndexer_07a8a0fb65e6,\n",
       " OneHotEncoderEstimator_c0b663db0cd0,\n",
       " VectorAssembler_48010d403dd7]"
      ]
     },
     "execution_count": 6,
     "metadata": {},
     "output_type": "execute_result"
    }
   ],
   "source": [
    "stages"
   ]
  },
  {
   "cell_type": "code",
   "execution_count": 7,
   "metadata": {},
   "outputs": [],
   "source": [
    "pipe = Pipeline(stages = stages)\n",
    "pipelineModel = pipe.fit(df)\n",
    "df = pipelineModel.transform(df)\n"
   ]
  },
  {
   "cell_type": "code",
   "execution_count": 8,
   "metadata": {},
   "outputs": [
    {
     "name": "stdout",
     "output_type": "stream",
     "text": [
      "+--------+------+------+----+-----+-----+-------+--------+--------+-------------+-------------+----------------+--------------------+\n",
      "|Survived|Pclass|   Sex| Age|SibSp|Parch|   Fare|Embarked|SexIndex|  SexClassVec|EmbarkedIndex|EmbarkedClassVec|            features|\n",
      "+--------+------+------+----+-----+-----+-------+--------+--------+-------------+-------------+----------------+--------------------+\n",
      "|       0|     3|  male|22.0|    1|    0|   7.25|       S|     0.0|(1,[0],[1.0])|          0.0|   (2,[0],[1.0])|[1.0,1.0,0.0,3.0,...|\n",
      "|       1|     1|female|38.0|    1|    0|71.2833|       C|     1.0|    (1,[],[])|          1.0|   (2,[1],[1.0])|[0.0,0.0,1.0,1.0,...|\n",
      "|       1|     3|female|26.0|    0|    0|  7.925|       S|     1.0|    (1,[],[])|          0.0|   (2,[0],[1.0])|(8,[1,3,4,7],[1.0...|\n",
      "|       1|     1|female|35.0|    1|    0|   53.1|       S|     1.0|    (1,[],[])|          0.0|   (2,[0],[1.0])|[0.0,1.0,0.0,1.0,...|\n",
      "|       0|     3|  male|35.0|    0|    0|   8.05|       S|     0.0|(1,[0],[1.0])|          0.0|   (2,[0],[1.0])|[1.0,1.0,0.0,3.0,...|\n",
      "|       0|     1|  male|54.0|    0|    0|51.8625|       S|     0.0|(1,[0],[1.0])|          0.0|   (2,[0],[1.0])|[1.0,1.0,0.0,1.0,...|\n",
      "|       0|     3|  male| 2.0|    3|    1| 21.075|       S|     0.0|(1,[0],[1.0])|          0.0|   (2,[0],[1.0])|[1.0,1.0,0.0,3.0,...|\n",
      "|       1|     3|female|27.0|    0|    2|11.1333|       S|     1.0|    (1,[],[])|          0.0|   (2,[0],[1.0])|[0.0,1.0,0.0,3.0,...|\n",
      "|       1|     2|female|14.0|    1|    0|30.0708|       C|     1.0|    (1,[],[])|          1.0|   (2,[1],[1.0])|[0.0,0.0,1.0,2.0,...|\n",
      "|       1|     3|female| 4.0|    1|    1|   16.7|       S|     1.0|    (1,[],[])|          0.0|   (2,[0],[1.0])|[0.0,1.0,0.0,3.0,...|\n",
      "|       1|     1|female|58.0|    0|    0|  26.55|       S|     1.0|    (1,[],[])|          0.0|   (2,[0],[1.0])|(8,[1,3,4,7],[1.0...|\n",
      "|       0|     3|  male|20.0|    0|    0|   8.05|       S|     0.0|(1,[0],[1.0])|          0.0|   (2,[0],[1.0])|[1.0,1.0,0.0,3.0,...|\n",
      "|       0|     3|  male|39.0|    1|    5| 31.275|       S|     0.0|(1,[0],[1.0])|          0.0|   (2,[0],[1.0])|[1.0,1.0,0.0,3.0,...|\n",
      "|       0|     3|female|14.0|    0|    0| 7.8542|       S|     1.0|    (1,[],[])|          0.0|   (2,[0],[1.0])|(8,[1,3,4,7],[1.0...|\n",
      "|       1|     2|female|55.0|    0|    0|   16.0|       S|     1.0|    (1,[],[])|          0.0|   (2,[0],[1.0])|(8,[1,3,4,7],[1.0...|\n",
      "|       0|     3|  male| 2.0|    4|    1| 29.125|       Q|     0.0|(1,[0],[1.0])|          2.0|       (2,[],[])|[1.0,0.0,0.0,3.0,...|\n",
      "|       0|     3|female|31.0|    1|    0|   18.0|       S|     1.0|    (1,[],[])|          0.0|   (2,[0],[1.0])|[0.0,1.0,0.0,3.0,...|\n",
      "|       0|     2|  male|35.0|    0|    0|   26.0|       S|     0.0|(1,[0],[1.0])|          0.0|   (2,[0],[1.0])|[1.0,1.0,0.0,2.0,...|\n",
      "|       1|     2|  male|34.0|    0|    0|   13.0|       S|     0.0|(1,[0],[1.0])|          0.0|   (2,[0],[1.0])|[1.0,1.0,0.0,2.0,...|\n",
      "|       1|     3|female|15.0|    0|    0| 8.0292|       Q|     1.0|    (1,[],[])|          2.0|       (2,[],[])|(8,[3,4,7],[3.0,1...|\n",
      "+--------+------+------+----+-----+-----+-------+--------+--------+-------------+-------------+----------------+--------------------+\n",
      "only showing top 20 rows\n",
      "\n"
     ]
    }
   ],
   "source": [
    "df.show()"
   ]
  },
  {
   "cell_type": "code",
   "execution_count": 9,
   "metadata": {},
   "outputs": [],
   "source": [
    "selectedcols =  ['features'] + cols\n",
    "df = df.select(selectedcols)"
   ]
  },
  {
   "cell_type": "code",
   "execution_count": 10,
   "metadata": {},
   "outputs": [
    {
     "name": "stdout",
     "output_type": "stream",
     "text": [
      "root\n",
      " |-- features: vector (nullable = true)\n",
      " |-- Survived: integer (nullable = true)\n",
      " |-- Pclass: integer (nullable = true)\n",
      " |-- Sex: string (nullable = true)\n",
      " |-- Age: double (nullable = true)\n",
      " |-- SibSp: integer (nullable = true)\n",
      " |-- Parch: integer (nullable = true)\n",
      " |-- Fare: double (nullable = true)\n",
      " |-- Embarked: string (nullable = true)\n",
      "\n"
     ]
    }
   ],
   "source": [
    "df.printSchema()"
   ]
  },
  {
   "cell_type": "code",
   "execution_count": 11,
   "metadata": {},
   "outputs": [],
   "source": [
    "from pyspark.ml.classification import RandomForestClassifier\n",
    "\n",
    "rf = RandomForestClassifier(labelCol = 'Survived', featuresCol = 'features')\n",
    "\n",
    "final_df = df.select('features', 'Survived')\n"
   ]
  },
  {
   "cell_type": "code",
   "execution_count": 12,
   "metadata": {},
   "outputs": [],
   "source": [
    "rf_model = rf.fit(final_df)"
   ]
  },
  {
   "cell_type": "code",
   "execution_count": 13,
   "metadata": {},
   "outputs": [
    {
     "data": {
      "text/plain": [
       "[Row(features=DenseVector([1.0, 1.0, 0.0, 3.0, 22.0, 1.0, 0.0, 7.25]), Survived=0)]"
      ]
     },
     "execution_count": 13,
     "metadata": {},
     "output_type": "execute_result"
    }
   ],
   "source": [
    "final_df.take(1)"
   ]
  },
  {
   "cell_type": "code",
   "execution_count": 14,
   "metadata": {},
   "outputs": [
    {
     "data": {
      "text/plain": [
       "SparseVector(8, {0: 0.4749, 1: 0.0062, 2: 0.0189, 3: 0.1137, 4: 0.1253, 5: 0.0471, 6: 0.0392, 7: 0.1747})"
      ]
     },
     "execution_count": 14,
     "metadata": {},
     "output_type": "execute_result"
    }
   ],
   "source": [
    "rf_model.featureImportances"
   ]
  },
  {
   "cell_type": "code",
   "execution_count": 17,
   "metadata": {},
   "outputs": [
    {
     "name": "stdout",
     "output_type": "stream",
     "text": [
      "+----------+--------+\n",
      "|prediction|Survived|\n",
      "+----------+--------+\n",
      "|       0.0|       0|\n",
      "|       0.0|       0|\n",
      "|       0.0|       0|\n",
      "+----------+--------+\n",
      "only showing top 3 rows\n",
      "\n"
     ]
    }
   ],
   "source": [
    "from pyspark.ml.classification import LogisticRegression\n",
    "\n",
    "log_reg = LogisticRegression(featuresCol = 'features', labelCol = 'Survived')\n",
    "pip = pipeline = Pipeline(stages = [log_reg])\n",
    "\n",
    "train, test = final_df.randomSplit([0.7, 0.3])\n",
    "\n",
    "fit_model = pip.fit(train)\n",
    "\n",
    "results = fit_model.transform(test)\n",
    "\n",
    "results.select('prediction', 'Survived').show(3)"
   ]
  },
  {
   "cell_type": "code",
   "execution_count": 18,
   "metadata": {},
   "outputs": [
    {
     "data": {
      "text/plain": [
       "0.8368328958880146"
      ]
     },
     "execution_count": 18,
     "metadata": {},
     "output_type": "execute_result"
    }
   ],
   "source": [
    "from pyspark.ml.evaluation import BinaryClassificationEvaluator\n",
    "\n",
    "eval = BinaryClassificationEvaluator(rawPredictionCol = 'rawPrediction', labelCol = 'Survived')\n",
    "AUC = eval.evaluate(results)\n",
    "AUC"
   ]
  },
  {
   "cell_type": "code",
   "execution_count": null,
   "metadata": {},
   "outputs": [],
   "source": []
  }
 ],
 "metadata": {
  "kernelspec": {
   "display_name": "Python 3",
   "language": "python",
   "name": "python3"
  },
  "language_info": {
   "codemirror_mode": {
    "name": "ipython",
    "version": 3
   },
   "file_extension": ".py",
   "mimetype": "text/x-python",
   "name": "python",
   "nbconvert_exporter": "python",
   "pygments_lexer": "ipython3",
   "version": "3.7.3"
  }
 },
 "nbformat": 4,
 "nbformat_minor": 2
}
